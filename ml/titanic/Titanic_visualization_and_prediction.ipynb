{
  "cells": [
    {
      "cell_type": "code",
      "execution_count": 51,
      "metadata": {
        "_cell_guid": "b1076dfc-b9ad-4769-8c92-a6c4dae69d19",
        "_uuid": "8f2839f25d086af736a60e9eeb907d3b93b6e0e5",
        "execution": {
          "iopub.execute_input": "2024-06-23T22:33:35.825135Z",
          "iopub.status.busy": "2024-06-23T22:33:35.824557Z",
          "iopub.status.idle": "2024-06-23T22:33:39.554009Z",
          "shell.execute_reply": "2024-06-23T22:33:39.55194Z",
          "shell.execute_reply.started": "2024-06-23T22:33:35.825093Z"
        },
        "id": "H1QGehlMmHkG",
        "trusted": true
      },
      "outputs": [],
      "source": [
        "\n",
        "import numpy as np\n",
        "import pandas as pd\n",
        "import os\n",
        "\n",
        "#for plot\n",
        "import seaborn as sns\n",
        "import matplotlib.pyplot as plt\n",
        "\n",
        "#for prepare data\n",
        "from sklearn.pipeline import Pipeline\n",
        "from sklearn.compose import ColumnTransformer\n",
        "from sklearn.preprocessing import OrdinalEncoder, StandardScaler\n",
        "from sklearn.model_selection import train_test_split\n",
        "\n",
        "#models\n",
        "from sklearn.neighbors import KNeighborsClassifier\n",
        "from sklearn.svm import SVC\n",
        "from sklearn.linear_model import LogisticRegression\n",
        "from sklearn.ensemble import RandomForestClassifier\n",
        "from sklearn.tree import DecisionTreeClassifier\n",
        "import xgboost as xgb\n",
        "\n",
        "\n",
        "#metric\n",
        "from sklearn.metrics import  accuracy_score"
      ]
    },
    {
      "cell_type": "code",
      "execution_count": 52,
      "metadata": {
        "execution": {
          "iopub.execute_input": "2024-06-23T22:33:39.557409Z",
          "iopub.status.busy": "2024-06-23T22:33:39.55635Z",
          "iopub.status.idle": "2024-06-23T22:33:39.613037Z",
          "shell.execute_reply": "2024-06-23T22:33:39.611822Z",
          "shell.execute_reply.started": "2024-06-23T22:33:39.557345Z"
        },
        "id": "o1UqnYQwmHkI",
        "trusted": true
      },
      "outputs": [],
      "source": [
        "df =pd.read_csv(os.path.join(os.getcwd(),'train.csv'))"
      ]
    },
    {
      "cell_type": "code",
      "execution_count": 53,
      "metadata": {
        "colab": {
          "base_uri": "https://localhost:8080/",
          "height": 258
        },
        "execution": {
          "iopub.execute_input": "2024-06-23T22:33:39.618193Z",
          "iopub.status.busy": "2024-06-23T22:33:39.617319Z",
          "iopub.status.idle": "2024-06-23T22:33:39.643161Z",
          "shell.execute_reply": "2024-06-23T22:33:39.641747Z",
          "shell.execute_reply.started": "2024-06-23T22:33:39.618154Z"
        },
        "id": "QMe4ZTuvmHkK",
        "outputId": "6857c5f2-1a42-465a-ae9f-03f807534f85",
        "trusted": true
      },
      "outputs": [
        {
          "data": {
            "text/html": [
              "<div>\n",
              "<style scoped>\n",
              "    .dataframe tbody tr th:only-of-type {\n",
              "        vertical-align: middle;\n",
              "    }\n",
              "\n",
              "    .dataframe tbody tr th {\n",
              "        vertical-align: top;\n",
              "    }\n",
              "\n",
              "    .dataframe thead th {\n",
              "        text-align: right;\n",
              "    }\n",
              "</style>\n",
              "<table border=\"1\" class=\"dataframe\">\n",
              "  <thead>\n",
              "    <tr style=\"text-align: right;\">\n",
              "      <th></th>\n",
              "      <th>PassengerId</th>\n",
              "      <th>Survived</th>\n",
              "      <th>Pclass</th>\n",
              "      <th>Name</th>\n",
              "      <th>Sex</th>\n",
              "      <th>Age</th>\n",
              "      <th>SibSp</th>\n",
              "      <th>Parch</th>\n",
              "      <th>Ticket</th>\n",
              "      <th>Fare</th>\n",
              "      <th>Cabin</th>\n",
              "      <th>Embarked</th>\n",
              "    </tr>\n",
              "  </thead>\n",
              "  <tbody>\n",
              "    <tr>\n",
              "      <th>0</th>\n",
              "      <td>1</td>\n",
              "      <td>0</td>\n",
              "      <td>3</td>\n",
              "      <td>Braund, Mr. Owen Harris</td>\n",
              "      <td>male</td>\n",
              "      <td>22.0</td>\n",
              "      <td>1</td>\n",
              "      <td>0</td>\n",
              "      <td>A/5 21171</td>\n",
              "      <td>7.2500</td>\n",
              "      <td>NaN</td>\n",
              "      <td>S</td>\n",
              "    </tr>\n",
              "    <tr>\n",
              "      <th>1</th>\n",
              "      <td>2</td>\n",
              "      <td>1</td>\n",
              "      <td>1</td>\n",
              "      <td>Cumings, Mrs. John Bradley (Florence Briggs Th...</td>\n",
              "      <td>female</td>\n",
              "      <td>38.0</td>\n",
              "      <td>1</td>\n",
              "      <td>0</td>\n",
              "      <td>PC 17599</td>\n",
              "      <td>71.2833</td>\n",
              "      <td>C85</td>\n",
              "      <td>C</td>\n",
              "    </tr>\n",
              "    <tr>\n",
              "      <th>2</th>\n",
              "      <td>3</td>\n",
              "      <td>1</td>\n",
              "      <td>3</td>\n",
              "      <td>Heikkinen, Miss. Laina</td>\n",
              "      <td>female</td>\n",
              "      <td>26.0</td>\n",
              "      <td>0</td>\n",
              "      <td>0</td>\n",
              "      <td>STON/O2. 3101282</td>\n",
              "      <td>7.9250</td>\n",
              "      <td>NaN</td>\n",
              "      <td>S</td>\n",
              "    </tr>\n",
              "    <tr>\n",
              "      <th>3</th>\n",
              "      <td>4</td>\n",
              "      <td>1</td>\n",
              "      <td>1</td>\n",
              "      <td>Futrelle, Mrs. Jacques Heath (Lily May Peel)</td>\n",
              "      <td>female</td>\n",
              "      <td>35.0</td>\n",
              "      <td>1</td>\n",
              "      <td>0</td>\n",
              "      <td>113803</td>\n",
              "      <td>53.1000</td>\n",
              "      <td>C123</td>\n",
              "      <td>S</td>\n",
              "    </tr>\n",
              "    <tr>\n",
              "      <th>4</th>\n",
              "      <td>5</td>\n",
              "      <td>0</td>\n",
              "      <td>3</td>\n",
              "      <td>Allen, Mr. William Henry</td>\n",
              "      <td>male</td>\n",
              "      <td>35.0</td>\n",
              "      <td>0</td>\n",
              "      <td>0</td>\n",
              "      <td>373450</td>\n",
              "      <td>8.0500</td>\n",
              "      <td>NaN</td>\n",
              "      <td>S</td>\n",
              "    </tr>\n",
              "  </tbody>\n",
              "</table>\n",
              "</div>"
            ],
            "text/plain": [
              "   PassengerId  Survived  Pclass  \\\n",
              "0            1         0       3   \n",
              "1            2         1       1   \n",
              "2            3         1       3   \n",
              "3            4         1       1   \n",
              "4            5         0       3   \n",
              "\n",
              "                                                Name     Sex   Age  SibSp  \\\n",
              "0                            Braund, Mr. Owen Harris    male  22.0      1   \n",
              "1  Cumings, Mrs. John Bradley (Florence Briggs Th...  female  38.0      1   \n",
              "2                             Heikkinen, Miss. Laina  female  26.0      0   \n",
              "3       Futrelle, Mrs. Jacques Heath (Lily May Peel)  female  35.0      1   \n",
              "4                           Allen, Mr. William Henry    male  35.0      0   \n",
              "\n",
              "   Parch            Ticket     Fare Cabin Embarked  \n",
              "0      0         A/5 21171   7.2500   NaN        S  \n",
              "1      0          PC 17599  71.2833   C85        C  \n",
              "2      0  STON/O2. 3101282   7.9250   NaN        S  \n",
              "3      0            113803  53.1000  C123        S  \n",
              "4      0            373450   8.0500   NaN        S  "
            ]
          },
          "execution_count": 53,
          "metadata": {},
          "output_type": "execute_result"
        }
      ],
      "source": [
        "df.head()"
      ]
    },
    {
      "cell_type": "code",
      "execution_count": 54,
      "metadata": {
        "colab": {
          "base_uri": "https://localhost:8080/",
          "height": 460
        },
        "execution": {
          "iopub.execute_input": "2024-06-23T22:33:39.646761Z",
          "iopub.status.busy": "2024-06-23T22:33:39.646283Z",
          "iopub.status.idle": "2024-06-23T22:33:39.660437Z",
          "shell.execute_reply": "2024-06-23T22:33:39.659127Z",
          "shell.execute_reply.started": "2024-06-23T22:33:39.646721Z"
        },
        "id": "DicIwY2DmHkL",
        "outputId": "2fb044d9-6636-431c-ffa0-7f89ce52025b",
        "trusted": true
      },
      "outputs": [
        {
          "data": {
            "text/plain": [
              "PassengerId      0\n",
              "Survived         0\n",
              "Pclass           0\n",
              "Name             0\n",
              "Sex              0\n",
              "Age            177\n",
              "SibSp            0\n",
              "Parch            0\n",
              "Ticket           0\n",
              "Fare             0\n",
              "Cabin          687\n",
              "Embarked         2\n",
              "dtype: int64"
            ]
          },
          "execution_count": 54,
          "metadata": {},
          "output_type": "execute_result"
        }
      ],
      "source": [
        "df.isna().sum()"
      ]
    },
    {
      "cell_type": "code",
      "execution_count": 55,
      "metadata": {
        "colab": {
          "base_uri": "https://localhost:8080/",
          "height": 300
        },
        "execution": {
          "iopub.execute_input": "2024-06-23T22:33:39.695158Z",
          "iopub.status.busy": "2024-06-23T22:33:39.694764Z",
          "iopub.status.idle": "2024-06-23T22:33:39.732513Z",
          "shell.execute_reply": "2024-06-23T22:33:39.731337Z",
          "shell.execute_reply.started": "2024-06-23T22:33:39.695119Z"
        },
        "id": "HSb7w5jemHkR",
        "outputId": "64f39380-a8e8-4fa1-ab95-7a1702d18a7f",
        "trusted": true
      },
      "outputs": [
        {
          "data": {
            "text/html": [
              "<div>\n",
              "<style scoped>\n",
              "    .dataframe tbody tr th:only-of-type {\n",
              "        vertical-align: middle;\n",
              "    }\n",
              "\n",
              "    .dataframe tbody tr th {\n",
              "        vertical-align: top;\n",
              "    }\n",
              "\n",
              "    .dataframe thead th {\n",
              "        text-align: right;\n",
              "    }\n",
              "</style>\n",
              "<table border=\"1\" class=\"dataframe\">\n",
              "  <thead>\n",
              "    <tr style=\"text-align: right;\">\n",
              "      <th></th>\n",
              "      <th>PassengerId</th>\n",
              "      <th>Survived</th>\n",
              "      <th>Pclass</th>\n",
              "      <th>Age</th>\n",
              "      <th>SibSp</th>\n",
              "      <th>Parch</th>\n",
              "      <th>Fare</th>\n",
              "    </tr>\n",
              "  </thead>\n",
              "  <tbody>\n",
              "    <tr>\n",
              "      <th>count</th>\n",
              "      <td>891.000000</td>\n",
              "      <td>891.000000</td>\n",
              "      <td>891.000000</td>\n",
              "      <td>714.000000</td>\n",
              "      <td>891.000000</td>\n",
              "      <td>891.000000</td>\n",
              "      <td>891.000000</td>\n",
              "    </tr>\n",
              "    <tr>\n",
              "      <th>mean</th>\n",
              "      <td>446.000000</td>\n",
              "      <td>0.383838</td>\n",
              "      <td>2.308642</td>\n",
              "      <td>29.699118</td>\n",
              "      <td>0.523008</td>\n",
              "      <td>0.381594</td>\n",
              "      <td>32.204208</td>\n",
              "    </tr>\n",
              "    <tr>\n",
              "      <th>std</th>\n",
              "      <td>257.353842</td>\n",
              "      <td>0.486592</td>\n",
              "      <td>0.836071</td>\n",
              "      <td>14.526497</td>\n",
              "      <td>1.102743</td>\n",
              "      <td>0.806057</td>\n",
              "      <td>49.693429</td>\n",
              "    </tr>\n",
              "    <tr>\n",
              "      <th>min</th>\n",
              "      <td>1.000000</td>\n",
              "      <td>0.000000</td>\n",
              "      <td>1.000000</td>\n",
              "      <td>0.420000</td>\n",
              "      <td>0.000000</td>\n",
              "      <td>0.000000</td>\n",
              "      <td>0.000000</td>\n",
              "    </tr>\n",
              "    <tr>\n",
              "      <th>25%</th>\n",
              "      <td>223.500000</td>\n",
              "      <td>0.000000</td>\n",
              "      <td>2.000000</td>\n",
              "      <td>20.125000</td>\n",
              "      <td>0.000000</td>\n",
              "      <td>0.000000</td>\n",
              "      <td>7.910400</td>\n",
              "    </tr>\n",
              "    <tr>\n",
              "      <th>50%</th>\n",
              "      <td>446.000000</td>\n",
              "      <td>0.000000</td>\n",
              "      <td>3.000000</td>\n",
              "      <td>28.000000</td>\n",
              "      <td>0.000000</td>\n",
              "      <td>0.000000</td>\n",
              "      <td>14.454200</td>\n",
              "    </tr>\n",
              "    <tr>\n",
              "      <th>75%</th>\n",
              "      <td>668.500000</td>\n",
              "      <td>1.000000</td>\n",
              "      <td>3.000000</td>\n",
              "      <td>38.000000</td>\n",
              "      <td>1.000000</td>\n",
              "      <td>0.000000</td>\n",
              "      <td>31.000000</td>\n",
              "    </tr>\n",
              "    <tr>\n",
              "      <th>max</th>\n",
              "      <td>891.000000</td>\n",
              "      <td>1.000000</td>\n",
              "      <td>3.000000</td>\n",
              "      <td>80.000000</td>\n",
              "      <td>8.000000</td>\n",
              "      <td>6.000000</td>\n",
              "      <td>512.329200</td>\n",
              "    </tr>\n",
              "  </tbody>\n",
              "</table>\n",
              "</div>"
            ],
            "text/plain": [
              "       PassengerId    Survived      Pclass         Age       SibSp  \\\n",
              "count   891.000000  891.000000  891.000000  714.000000  891.000000   \n",
              "mean    446.000000    0.383838    2.308642   29.699118    0.523008   \n",
              "std     257.353842    0.486592    0.836071   14.526497    1.102743   \n",
              "min       1.000000    0.000000    1.000000    0.420000    0.000000   \n",
              "25%     223.500000    0.000000    2.000000   20.125000    0.000000   \n",
              "50%     446.000000    0.000000    3.000000   28.000000    0.000000   \n",
              "75%     668.500000    1.000000    3.000000   38.000000    1.000000   \n",
              "max     891.000000    1.000000    3.000000   80.000000    8.000000   \n",
              "\n",
              "            Parch        Fare  \n",
              "count  891.000000  891.000000  \n",
              "mean     0.381594   32.204208  \n",
              "std      0.806057   49.693429  \n",
              "min      0.000000    0.000000  \n",
              "25%      0.000000    7.910400  \n",
              "50%      0.000000   14.454200  \n",
              "75%      0.000000   31.000000  \n",
              "max      6.000000  512.329200  "
            ]
          },
          "execution_count": 55,
          "metadata": {},
          "output_type": "execute_result"
        }
      ],
      "source": [
        "# describe to num\n",
        "df.describe()\n",
        "#observation:\n",
        "          # 1- average of ages less than 30\n",
        "          # 2- 38% of all survived\n",
        "          # 3- 50% of people in pclass 3\n",
        "          # 4- 50% of people pay fare 14.5 or less"
      ]
    },
    {
      "cell_type": "code",
      "execution_count": 56,
      "metadata": {
        "colab": {
          "base_uri": "https://localhost:8080/",
          "height": 174
        },
        "execution": {
          "iopub.execute_input": "2024-06-23T22:33:39.734283Z",
          "iopub.status.busy": "2024-06-23T22:33:39.733882Z",
          "iopub.status.idle": "2024-06-23T22:33:39.760849Z",
          "shell.execute_reply": "2024-06-23T22:33:39.75949Z",
          "shell.execute_reply.started": "2024-06-23T22:33:39.734253Z"
        },
        "id": "_rE4Ah9JmHkT",
        "outputId": "82dbeb51-2f9c-4715-e2d0-ae979f7ec089",
        "trusted": true
      },
      "outputs": [
        {
          "data": {
            "text/html": [
              "<div>\n",
              "<style scoped>\n",
              "    .dataframe tbody tr th:only-of-type {\n",
              "        vertical-align: middle;\n",
              "    }\n",
              "\n",
              "    .dataframe tbody tr th {\n",
              "        vertical-align: top;\n",
              "    }\n",
              "\n",
              "    .dataframe thead th {\n",
              "        text-align: right;\n",
              "    }\n",
              "</style>\n",
              "<table border=\"1\" class=\"dataframe\">\n",
              "  <thead>\n",
              "    <tr style=\"text-align: right;\">\n",
              "      <th></th>\n",
              "      <th>Name</th>\n",
              "      <th>Sex</th>\n",
              "      <th>Ticket</th>\n",
              "      <th>Cabin</th>\n",
              "      <th>Embarked</th>\n",
              "    </tr>\n",
              "  </thead>\n",
              "  <tbody>\n",
              "    <tr>\n",
              "      <th>count</th>\n",
              "      <td>891</td>\n",
              "      <td>891</td>\n",
              "      <td>891</td>\n",
              "      <td>204</td>\n",
              "      <td>889</td>\n",
              "    </tr>\n",
              "    <tr>\n",
              "      <th>unique</th>\n",
              "      <td>891</td>\n",
              "      <td>2</td>\n",
              "      <td>681</td>\n",
              "      <td>147</td>\n",
              "      <td>3</td>\n",
              "    </tr>\n",
              "    <tr>\n",
              "      <th>top</th>\n",
              "      <td>Braund, Mr. Owen Harris</td>\n",
              "      <td>male</td>\n",
              "      <td>347082</td>\n",
              "      <td>B96 B98</td>\n",
              "      <td>S</td>\n",
              "    </tr>\n",
              "    <tr>\n",
              "      <th>freq</th>\n",
              "      <td>1</td>\n",
              "      <td>577</td>\n",
              "      <td>7</td>\n",
              "      <td>4</td>\n",
              "      <td>644</td>\n",
              "    </tr>\n",
              "  </tbody>\n",
              "</table>\n",
              "</div>"
            ],
            "text/plain": [
              "                           Name   Sex  Ticket    Cabin Embarked\n",
              "count                       891   891     891      204      889\n",
              "unique                      891     2     681      147        3\n",
              "top     Braund, Mr. Owen Harris  male  347082  B96 B98        S\n",
              "freq                          1   577       7        4      644"
            ]
          },
          "execution_count": 56,
          "metadata": {},
          "output_type": "execute_result"
        }
      ],
      "source": [
        "# describe to categ\n",
        "df.describe(include=['O'])"
      ]
    },
    {
      "cell_type": "code",
      "execution_count": 57,
      "metadata": {
        "colab": {
          "base_uri": "https://localhost:8080/",
          "height": 258
        },
        "execution": {
          "iopub.execute_input": "2024-06-23T22:33:39.762822Z",
          "iopub.status.busy": "2024-06-23T22:33:39.762365Z",
          "iopub.status.idle": "2024-06-23T22:33:39.779971Z",
          "shell.execute_reply": "2024-06-23T22:33:39.778782Z",
          "shell.execute_reply.started": "2024-06-23T22:33:39.762782Z"
        },
        "id": "AZMAdOQFmHkV",
        "outputId": "f2c2f12a-b441-4d05-ec08-d9a7bb9d1e17",
        "trusted": true
      },
      "outputs": [
        {
          "data": {
            "text/html": [
              "<div>\n",
              "<style scoped>\n",
              "    .dataframe tbody tr th:only-of-type {\n",
              "        vertical-align: middle;\n",
              "    }\n",
              "\n",
              "    .dataframe tbody tr th {\n",
              "        vertical-align: top;\n",
              "    }\n",
              "\n",
              "    .dataframe thead th {\n",
              "        text-align: right;\n",
              "    }\n",
              "</style>\n",
              "<table border=\"1\" class=\"dataframe\">\n",
              "  <thead>\n",
              "    <tr style=\"text-align: right;\">\n",
              "      <th></th>\n",
              "      <th>PassengerId</th>\n",
              "      <th>Survived</th>\n",
              "      <th>Pclass</th>\n",
              "      <th>Name</th>\n",
              "      <th>Sex</th>\n",
              "      <th>Age</th>\n",
              "      <th>SibSp</th>\n",
              "      <th>Parch</th>\n",
              "      <th>Ticket</th>\n",
              "      <th>Fare</th>\n",
              "      <th>Cabin</th>\n",
              "      <th>Embarked</th>\n",
              "    </tr>\n",
              "  </thead>\n",
              "  <tbody>\n",
              "    <tr>\n",
              "      <th>0</th>\n",
              "      <td>1</td>\n",
              "      <td>0</td>\n",
              "      <td>3</td>\n",
              "      <td>Braund, Mr. Owen Harris</td>\n",
              "      <td>male</td>\n",
              "      <td>22.0</td>\n",
              "      <td>1</td>\n",
              "      <td>0</td>\n",
              "      <td>A/5 21171</td>\n",
              "      <td>7.2500</td>\n",
              "      <td>NaN</td>\n",
              "      <td>S</td>\n",
              "    </tr>\n",
              "    <tr>\n",
              "      <th>1</th>\n",
              "      <td>2</td>\n",
              "      <td>1</td>\n",
              "      <td>1</td>\n",
              "      <td>Cumings, Mrs. John Bradley (Florence Briggs Th...</td>\n",
              "      <td>female</td>\n",
              "      <td>38.0</td>\n",
              "      <td>1</td>\n",
              "      <td>0</td>\n",
              "      <td>PC 17599</td>\n",
              "      <td>71.2833</td>\n",
              "      <td>C85</td>\n",
              "      <td>C</td>\n",
              "    </tr>\n",
              "    <tr>\n",
              "      <th>2</th>\n",
              "      <td>3</td>\n",
              "      <td>1</td>\n",
              "      <td>3</td>\n",
              "      <td>Heikkinen, Miss. Laina</td>\n",
              "      <td>female</td>\n",
              "      <td>26.0</td>\n",
              "      <td>0</td>\n",
              "      <td>0</td>\n",
              "      <td>STON/O2. 3101282</td>\n",
              "      <td>7.9250</td>\n",
              "      <td>NaN</td>\n",
              "      <td>S</td>\n",
              "    </tr>\n",
              "    <tr>\n",
              "      <th>3</th>\n",
              "      <td>4</td>\n",
              "      <td>1</td>\n",
              "      <td>1</td>\n",
              "      <td>Futrelle, Mrs. Jacques Heath (Lily May Peel)</td>\n",
              "      <td>female</td>\n",
              "      <td>35.0</td>\n",
              "      <td>1</td>\n",
              "      <td>0</td>\n",
              "      <td>113803</td>\n",
              "      <td>53.1000</td>\n",
              "      <td>C123</td>\n",
              "      <td>S</td>\n",
              "    </tr>\n",
              "    <tr>\n",
              "      <th>4</th>\n",
              "      <td>5</td>\n",
              "      <td>0</td>\n",
              "      <td>3</td>\n",
              "      <td>Allen, Mr. William Henry</td>\n",
              "      <td>male</td>\n",
              "      <td>35.0</td>\n",
              "      <td>0</td>\n",
              "      <td>0</td>\n",
              "      <td>373450</td>\n",
              "      <td>8.0500</td>\n",
              "      <td>NaN</td>\n",
              "      <td>S</td>\n",
              "    </tr>\n",
              "  </tbody>\n",
              "</table>\n",
              "</div>"
            ],
            "text/plain": [
              "   PassengerId  Survived  Pclass  \\\n",
              "0            1         0       3   \n",
              "1            2         1       1   \n",
              "2            3         1       3   \n",
              "3            4         1       1   \n",
              "4            5         0       3   \n",
              "\n",
              "                                                Name     Sex   Age  SibSp  \\\n",
              "0                            Braund, Mr. Owen Harris    male  22.0      1   \n",
              "1  Cumings, Mrs. John Bradley (Florence Briggs Th...  female  38.0      1   \n",
              "2                             Heikkinen, Miss. Laina  female  26.0      0   \n",
              "3       Futrelle, Mrs. Jacques Heath (Lily May Peel)  female  35.0      1   \n",
              "4                           Allen, Mr. William Henry    male  35.0      0   \n",
              "\n",
              "   Parch            Ticket     Fare Cabin Embarked  \n",
              "0      0         A/5 21171   7.2500   NaN        S  \n",
              "1      0          PC 17599  71.2833   C85        C  \n",
              "2      0  STON/O2. 3101282   7.9250   NaN        S  \n",
              "3      0            113803  53.1000  C123        S  \n",
              "4      0            373450   8.0500   NaN        S  "
            ]
          },
          "execution_count": 57,
          "metadata": {},
          "output_type": "execute_result"
        }
      ],
      "source": [
        "df.head()"
      ]
    },
    {
      "cell_type": "code",
      "execution_count": 58,
      "metadata": {
        "colab": {
          "base_uri": "https://localhost:8080/",
          "height": 206
        },
        "execution": {
          "iopub.execute_input": "2024-06-23T22:33:39.78484Z",
          "iopub.status.busy": "2024-06-23T22:33:39.7842Z",
          "iopub.status.idle": "2024-06-23T22:33:39.805726Z",
          "shell.execute_reply": "2024-06-23T22:33:39.804485Z",
          "shell.execute_reply.started": "2024-06-23T22:33:39.784806Z"
        },
        "id": "6CRzNdMsmHkW",
        "outputId": "d5cd150b-6045-4b02-d0db-424554b359f4",
        "trusted": true
      },
      "outputs": [
        {
          "data": {
            "text/html": [
              "<div>\n",
              "<style scoped>\n",
              "    .dataframe tbody tr th:only-of-type {\n",
              "        vertical-align: middle;\n",
              "    }\n",
              "\n",
              "    .dataframe tbody tr th {\n",
              "        vertical-align: top;\n",
              "    }\n",
              "\n",
              "    .dataframe thead th {\n",
              "        text-align: right;\n",
              "    }\n",
              "</style>\n",
              "<table border=\"1\" class=\"dataframe\">\n",
              "  <thead>\n",
              "    <tr style=\"text-align: right;\">\n",
              "      <th></th>\n",
              "      <th>Survived</th>\n",
              "      <th>Pclass</th>\n",
              "      <th>Sex</th>\n",
              "      <th>Age</th>\n",
              "      <th>SibSp</th>\n",
              "      <th>Parch</th>\n",
              "      <th>Fare</th>\n",
              "      <th>Embarked</th>\n",
              "    </tr>\n",
              "  </thead>\n",
              "  <tbody>\n",
              "    <tr>\n",
              "      <th>0</th>\n",
              "      <td>0</td>\n",
              "      <td>3</td>\n",
              "      <td>male</td>\n",
              "      <td>22.0</td>\n",
              "      <td>1</td>\n",
              "      <td>0</td>\n",
              "      <td>7.2500</td>\n",
              "      <td>S</td>\n",
              "    </tr>\n",
              "    <tr>\n",
              "      <th>1</th>\n",
              "      <td>1</td>\n",
              "      <td>1</td>\n",
              "      <td>female</td>\n",
              "      <td>38.0</td>\n",
              "      <td>1</td>\n",
              "      <td>0</td>\n",
              "      <td>71.2833</td>\n",
              "      <td>C</td>\n",
              "    </tr>\n",
              "    <tr>\n",
              "      <th>2</th>\n",
              "      <td>1</td>\n",
              "      <td>3</td>\n",
              "      <td>female</td>\n",
              "      <td>26.0</td>\n",
              "      <td>0</td>\n",
              "      <td>0</td>\n",
              "      <td>7.9250</td>\n",
              "      <td>S</td>\n",
              "    </tr>\n",
              "    <tr>\n",
              "      <th>3</th>\n",
              "      <td>1</td>\n",
              "      <td>1</td>\n",
              "      <td>female</td>\n",
              "      <td>35.0</td>\n",
              "      <td>1</td>\n",
              "      <td>0</td>\n",
              "      <td>53.1000</td>\n",
              "      <td>S</td>\n",
              "    </tr>\n",
              "    <tr>\n",
              "      <th>4</th>\n",
              "      <td>0</td>\n",
              "      <td>3</td>\n",
              "      <td>male</td>\n",
              "      <td>35.0</td>\n",
              "      <td>0</td>\n",
              "      <td>0</td>\n",
              "      <td>8.0500</td>\n",
              "      <td>S</td>\n",
              "    </tr>\n",
              "  </tbody>\n",
              "</table>\n",
              "</div>"
            ],
            "text/plain": [
              "   Survived  Pclass     Sex   Age  SibSp  Parch     Fare Embarked\n",
              "0         0       3    male  22.0      1      0   7.2500        S\n",
              "1         1       1  female  38.0      1      0  71.2833        C\n",
              "2         1       3  female  26.0      0      0   7.9250        S\n",
              "3         1       1  female  35.0      1      0  53.1000        S\n",
              "4         0       3    male  35.0      0      0   8.0500        S"
            ]
          },
          "execution_count": 58,
          "metadata": {},
          "output_type": "execute_result"
        }
      ],
      "source": [
        "#remove unwanted columns\n",
        "df.drop(['PassengerId','Name','Cabin','Ticket'],axis=1,inplace=True)\n",
        "df.head()"
      ]
    },
    {
      "cell_type": "code",
      "execution_count": 59,
      "metadata": {
        "colab": {
          "base_uri": "https://localhost:8080/",
          "height": 552
        },
        "execution": {
          "iopub.execute_input": "2024-06-23T22:33:39.82343Z",
          "iopub.status.busy": "2024-06-23T22:33:39.823086Z",
          "iopub.status.idle": "2024-06-23T22:33:41.227525Z",
          "shell.execute_reply": "2024-06-23T22:33:41.226285Z",
          "shell.execute_reply.started": "2024-06-23T22:33:39.823386Z"
        },
        "id": "GV4s4VpFmHkY",
        "outputId": "0f2b0765-76e6-4212-f806-bdc6f9c80d63",
        "trusted": true
      },
      "outputs": [
        {
          "data": {
            "image/png": "[encoded data removed]",
            "text/plain": [
              "<Figure size 2000x1000 with 6 Axes>"
            ]
          },
          "metadata": {},
          "output_type": "display_data"
        }
      ],
      "source": [
        "df.hist(bins=30,figsize=[20,10])\n",
        "plt.show()"
      ]
    },
    {
      "cell_type": "code",
      "execution_count": 60,
      "metadata": {
        "colab": {
          "base_uri": "https://localhost:8080/",
          "height": 526
        },
        "execution": {
          "iopub.execute_input": "2024-06-23T22:33:41.229375Z",
          "iopub.status.busy": "2024-06-23T22:33:41.229024Z",
          "iopub.status.idle": "2024-06-23T22:33:41.477561Z",
          "shell.execute_reply": "2024-06-23T22:33:41.47638Z",
          "shell.execute_reply.started": "2024-06-23T22:33:41.229345Z"
        },
        "id": "1ZhgJvOqmHkY",
        "outputId": "d7a4ef7c-b0be-40f1-a4d8-983e718e22bf",
        "trusted": true
      },
      "outputs": [
        {
          "data": {
            "image/png": "[encoded data removed]",
            "text/plain": [
              "<Figure size 1000x600 with 1 Axes>"
            ]
          },
          "metadata": {},
          "output_type": "display_data"
        }
      ],
      "source": [
        "plt.figure(figsize=(10, 6))\n",
        "sns.boxplot(y='Age',data=df)\n",
        "plt.title(f'Boxplot of Age')\n",
        "plt.show()\n",
        "#we see have outlayer in age"
      ]
    },
    {
      "cell_type": "code",
      "execution_count": 61,
      "metadata": {
        "colab": {
          "base_uri": "https://localhost:8080/"
        },
        "execution": {
          "iopub.execute_input": "2024-06-23T22:33:41.47942Z",
          "iopub.status.busy": "2024-06-23T22:33:41.478989Z",
          "iopub.status.idle": "2024-06-23T22:33:41.488132Z",
          "shell.execute_reply": "2024-06-23T22:33:41.486827Z",
          "shell.execute_reply.started": "2024-06-23T22:33:41.47936Z"
        },
        "id": "6IVuw_lTmHkZ",
        "outputId": "e2d5aa4d-455e-4024-8fce-fffae8895520",
        "trusted": true
      },
      "outputs": [
        {
          "data": {
            "text/plain": [
              "8"
            ]
          },
          "execution_count": 61,
          "metadata": {},
          "output_type": "execute_result"
        }
      ],
      "source": [
        "#count of rows that make outlayer\n",
        "len(df[df['Age'] > 65])"
      ]
    },
    {
      "cell_type": "code",
      "execution_count": 62,
      "metadata": {
        "colab": {
          "base_uri": "https://localhost:8080/",
          "height": 206
        },
        "execution": {
          "iopub.execute_input": "2024-06-23T22:33:41.489938Z",
          "iopub.status.busy": "2024-06-23T22:33:41.48957Z",
          "iopub.status.idle": "2024-06-23T22:33:41.50997Z",
          "shell.execute_reply": "2024-06-23T22:33:41.508728Z",
          "shell.execute_reply.started": "2024-06-23T22:33:41.48991Z"
        },
        "id": "BlxaUep9mHkZ",
        "outputId": "8ba45b46-9d88-489e-e92f-0e0e32d6bd86",
        "trusted": true
      },
      "outputs": [
        {
          "data": {
            "text/html": [
              "<div>\n",
              "<style scoped>\n",
              "    .dataframe tbody tr th:only-of-type {\n",
              "        vertical-align: middle;\n",
              "    }\n",
              "\n",
              "    .dataframe tbody tr th {\n",
              "        vertical-align: top;\n",
              "    }\n",
              "\n",
              "    .dataframe thead th {\n",
              "        text-align: right;\n",
              "    }\n",
              "</style>\n",
              "<table border=\"1\" class=\"dataframe\">\n",
              "  <thead>\n",
              "    <tr style=\"text-align: right;\">\n",
              "      <th></th>\n",
              "      <th>Survived</th>\n",
              "      <th>Pclass</th>\n",
              "      <th>Sex</th>\n",
              "      <th>Age</th>\n",
              "      <th>SibSp</th>\n",
              "      <th>Parch</th>\n",
              "      <th>Fare</th>\n",
              "      <th>Embarked</th>\n",
              "    </tr>\n",
              "  </thead>\n",
              "  <tbody>\n",
              "    <tr>\n",
              "      <th>0</th>\n",
              "      <td>0</td>\n",
              "      <td>3</td>\n",
              "      <td>male</td>\n",
              "      <td>22.0</td>\n",
              "      <td>1</td>\n",
              "      <td>0</td>\n",
              "      <td>7.2500</td>\n",
              "      <td>S</td>\n",
              "    </tr>\n",
              "    <tr>\n",
              "      <th>1</th>\n",
              "      <td>1</td>\n",
              "      <td>1</td>\n",
              "      <td>female</td>\n",
              "      <td>38.0</td>\n",
              "      <td>1</td>\n",
              "      <td>0</td>\n",
              "      <td>71.2833</td>\n",
              "      <td>C</td>\n",
              "    </tr>\n",
              "    <tr>\n",
              "      <th>2</th>\n",
              "      <td>1</td>\n",
              "      <td>3</td>\n",
              "      <td>female</td>\n",
              "      <td>26.0</td>\n",
              "      <td>0</td>\n",
              "      <td>0</td>\n",
              "      <td>7.9250</td>\n",
              "      <td>S</td>\n",
              "    </tr>\n",
              "    <tr>\n",
              "      <th>3</th>\n",
              "      <td>1</td>\n",
              "      <td>1</td>\n",
              "      <td>female</td>\n",
              "      <td>35.0</td>\n",
              "      <td>1</td>\n",
              "      <td>0</td>\n",
              "      <td>53.1000</td>\n",
              "      <td>S</td>\n",
              "    </tr>\n",
              "    <tr>\n",
              "      <th>4</th>\n",
              "      <td>0</td>\n",
              "      <td>3</td>\n",
              "      <td>male</td>\n",
              "      <td>35.0</td>\n",
              "      <td>0</td>\n",
              "      <td>0</td>\n",
              "      <td>8.0500</td>\n",
              "      <td>S</td>\n",
              "    </tr>\n",
              "  </tbody>\n",
              "</table>\n",
              "</div>"
            ],
            "text/plain": [
              "   Survived  Pclass     Sex   Age  SibSp  Parch     Fare Embarked\n",
              "0         0       3    male  22.0      1      0   7.2500        S\n",
              "1         1       1  female  38.0      1      0  71.2833        C\n",
              "2         1       3  female  26.0      0      0   7.9250        S\n",
              "3         1       1  female  35.0      1      0  53.1000        S\n",
              "4         0       3    male  35.0      0      0   8.0500        S"
            ]
          },
          "execution_count": 62,
          "metadata": {},
          "output_type": "execute_result"
        }
      ],
      "source": [
        "#test to remove the outlayer name it (ee)\n",
        "ee=df[df['Age']<=65]\n",
        "ee.head()"
      ]
    },
    {
      "cell_type": "code",
      "execution_count": 63,
      "metadata": {
        "colab": {
          "base_uri": "https://localhost:8080/",
          "height": 526
        },
        "execution": {
          "iopub.execute_input": "2024-06-23T22:33:41.512192Z",
          "iopub.status.busy": "2024-06-23T22:33:41.511838Z",
          "iopub.status.idle": "2024-06-23T22:33:41.742988Z",
          "shell.execute_reply": "2024-06-23T22:33:41.741837Z",
          "shell.execute_reply.started": "2024-06-23T22:33:41.512156Z"
        },
        "id": "2OeUrmZvmHka",
        "outputId": "3621f898-4f16-431c-f781-92fc295b5c61",
        "trusted": true
      },
      "outputs": [
        {
          "data": {
            "image/png": "[encoded data removed]",
            "text/plain": [
              "<Figure size 1000x600 with 1 Axes>"
            ]
          },
          "metadata": {},
          "output_type": "display_data"
        }
      ],
      "source": [
        "#plot to the ee without outlayer\n",
        "plt.figure(figsize=(10, 6))\n",
        "sns.boxplot(y='Age',data=ee)\n",
        "plt.title(f'Boxplot of Age')\n",
        "plt.show()\n",
        "#bea. it only 8 so keep them"
      ]
    },
    {
      "cell_type": "code",
      "execution_count": 64,
      "metadata": {
        "colab": {
          "base_uri": "https://localhost:8080/",
          "height": 564
        },
        "execution": {
          "iopub.execute_input": "2024-06-23T22:33:41.744865Z",
          "iopub.status.busy": "2024-06-23T22:33:41.744447Z",
          "iopub.status.idle": "2024-06-23T22:33:42.096868Z",
          "shell.execute_reply": "2024-06-23T22:33:42.095823Z",
          "shell.execute_reply.started": "2024-06-23T22:33:41.744826Z"
        },
        "id": "ANkPS9WXmHka",
        "outputId": "3c736c06-1186-498e-f97c-0bfdef2155d6",
        "trusted": true
      },
      "outputs": [
        {
          "data": {
            "image/png": "[encoded data removed]",
            "text/plain": [
              "<Figure size 1000x600 with 1 Axes>"
            ]
          },
          "metadata": {},
          "output_type": "display_data"
        }
      ],
      "source": [
        "plt.figure(figsize=(10, 6))\n",
        "sns.histplot(x='Fare',data=df,bins=20,kde=True)\n",
        "plt.title(f'Boxplot of Fare')\n",
        "plt.show()"
      ]
    },
    {
      "cell_type": "code",
      "execution_count": 65,
      "metadata": {
        "execution": {
          "iopub.execute_input": "2024-06-23T22:33:42.098444Z",
          "iopub.status.busy": "2024-06-23T22:33:42.098098Z",
          "iopub.status.idle": "2024-06-23T22:33:42.103521Z",
          "shell.execute_reply": "2024-06-23T22:33:42.10234Z",
          "shell.execute_reply.started": "2024-06-23T22:33:42.098386Z"
        },
        "id": "Q7OwBmHxmHkb",
        "trusted": true
      },
      "outputs": [],
      "source": [
        "#to color visualization\n",
        "color={0.0: 'red', 1.0: 'green'}"
      ]
    },
    {
      "cell_type": "code",
      "execution_count": 66,
      "metadata": {
        "execution": {
          "iopub.execute_input": "2024-06-23T22:33:42.125567Z",
          "iopub.status.busy": "2024-06-23T22:33:42.125206Z",
          "iopub.status.idle": "2024-06-23T22:33:42.293722Z",
          "shell.execute_reply": "2024-06-23T22:33:42.292276Z",
          "shell.execute_reply.started": "2024-06-23T22:33:42.125539Z"
        },
        "id": "aG9yZsN0mHkb",
        "trusted": true
      },
      "outputs": [
        {
          "data": {
            "image/png": "[encoded data removed]",
            "text/plain": [
              "<Figure size 640x480 with 1 Axes>"
            ]
          },
          "metadata": {},
          "output_type": "display_data"
        }
      ],
      "source": [
        "  #to color visualization\n",
        "\n",
        "sns.countplot(x='Survived', data=df,palette=color)\n",
        "plt.title('count by Survived')\n",
        "plt.xticks(ticks=[0, 1], labels=[' Not Survive', 'Survived'])\n",
        "plt.show()"
      ]
    },
    {
      "cell_type": "code",
      "execution_count": 67,
      "metadata": {
        "colab": {
          "base_uri": "https://localhost:8080/",
          "height": 672
        },
        "execution": {
          "iopub.execute_input": "2024-06-23T22:33:42.327964Z",
          "iopub.status.busy": "2024-06-23T22:33:42.327486Z",
          "iopub.status.idle": "2024-06-23T22:33:42.644775Z",
          "shell.execute_reply": "2024-06-23T22:33:42.643497Z",
          "shell.execute_reply.started": "2024-06-23T22:33:42.32793Z"
        },
        "id": "h9Wn3TafmHkc",
        "outputId": "00af5bf1-3243-4fac-fd0e-ee25a7e5e29d",
        "trusted": true
      },
      "outputs": [
        {
          "data": {
            "image/png": "[encoded data removed]",
            "text/plain": [
              "<Figure size 1000x600 with 1 Axes>"
            ]
          },
          "metadata": {},
          "output_type": "display_data"
        }
      ],
      "source": [
        "plt.figure(figsize=(10, 6))\n",
        "sns.countplot(x='Sex',data=df, palette='pastel')\n",
        "plt.title(f'count by sex')\n",
        "plt.show()"
      ]
    },
    {
      "cell_type": "code",
      "execution_count": 68,
      "metadata": {
        "colab": {
          "base_uri": "https://localhost:8080/",
          "height": 143
        },
        "execution": {
          "iopub.execute_input": "2024-06-23T22:33:42.646514Z",
          "iopub.status.busy": "2024-06-23T22:33:42.646138Z",
          "iopub.status.idle": "2024-06-23T22:33:42.65965Z",
          "shell.execute_reply": "2024-06-23T22:33:42.658482Z",
          "shell.execute_reply.started": "2024-06-23T22:33:42.646481Z"
        },
        "id": "zxMwGobgmHkc",
        "outputId": "e094ce79-0e6a-4def-e969-751fe27ce951",
        "trusted": true
      },
      "outputs": [
        {
          "data": {
            "text/html": [
              "<div>\n",
              "<style scoped>\n",
              "    .dataframe tbody tr th:only-of-type {\n",
              "        vertical-align: middle;\n",
              "    }\n",
              "\n",
              "    .dataframe tbody tr th {\n",
              "        vertical-align: top;\n",
              "    }\n",
              "\n",
              "    .dataframe thead th {\n",
              "        text-align: right;\n",
              "    }\n",
              "</style>\n",
              "<table border=\"1\" class=\"dataframe\">\n",
              "  <thead>\n",
              "    <tr style=\"text-align: right;\">\n",
              "      <th></th>\n",
              "      <th>Pclass</th>\n",
              "      <th>Survived</th>\n",
              "    </tr>\n",
              "  </thead>\n",
              "  <tbody>\n",
              "    <tr>\n",
              "      <th>0</th>\n",
              "      <td>1</td>\n",
              "      <td>0.629630</td>\n",
              "    </tr>\n",
              "    <tr>\n",
              "      <th>1</th>\n",
              "      <td>2</td>\n",
              "      <td>0.472826</td>\n",
              "    </tr>\n",
              "    <tr>\n",
              "      <th>2</th>\n",
              "      <td>3</td>\n",
              "      <td>0.242363</td>\n",
              "    </tr>\n",
              "  </tbody>\n",
              "</table>\n",
              "</div>"
            ],
            "text/plain": [
              "   Pclass  Survived\n",
              "0       1  0.629630\n",
              "1       2  0.472826\n",
              "2       3  0.242363"
            ]
          },
          "execution_count": 68,
          "metadata": {},
          "output_type": "execute_result"
        }
      ],
      "source": [
        "df[['Survived', 'Pclass']].groupby('Pclass').mean().reset_index()"
      ]
    },
    {
      "cell_type": "code",
      "execution_count": 69,
      "metadata": {
        "colab": {
          "base_uri": "https://localhost:8080/",
          "height": 564
        },
        "execution": {
          "iopub.execute_input": "2024-06-23T22:33:42.661781Z",
          "iopub.status.busy": "2024-06-23T22:33:42.661167Z",
          "iopub.status.idle": "2024-06-23T22:33:42.895014Z",
          "shell.execute_reply": "2024-06-23T22:33:42.893754Z",
          "shell.execute_reply.started": "2024-06-23T22:33:42.661741Z"
        },
        "id": "BhV4VKCZmHkd",
        "outputId": "282b7a90-ba18-42f9-d6f6-33783cf5bcb3",
        "trusted": true
      },
      "outputs": [
        {
          "data": {
            "image/png": "[encoded data removed]",
            "text/plain": [
              "<Figure size 800x600 with 1 Axes>"
            ]
          },
          "metadata": {},
          "output_type": "display_data"
        }
      ],
      "source": [
        "plt.figure(figsize=(8, 6))\n",
        "sns.countplot(x='Pclass', data=df, hue='Survived',palette=color)\n",
        "\n",
        "# Adding titles and labels\n",
        "plt.title('Pclass to survive')\n",
        "plt.xlabel('Category')\n",
        "plt.ylabel('Value')\n",
        "plt.legend(title='Survived', labels=['Not Survive', 'Survived'])\n",
        "plt.show()"
      ]
    },
    {
      "cell_type": "code",
      "execution_count": 70,
      "metadata": {
        "colab": {
          "base_uri": "https://localhost:8080/",
          "height": 237
        },
        "execution": {
          "iopub.execute_input": "2024-06-23T22:33:42.897219Z",
          "iopub.status.busy": "2024-06-23T22:33:42.89679Z",
          "iopub.status.idle": "2024-06-23T22:33:42.92266Z",
          "shell.execute_reply": "2024-06-23T22:33:42.921352Z",
          "shell.execute_reply.started": "2024-06-23T22:33:42.897182Z"
        },
        "id": "e-JQO2gemHkd",
        "outputId": "03050bc9-c92f-401b-80d5-22255015a218",
        "trusted": true
      },
      "outputs": [
        {
          "data": {
            "text/html": [
              "<div>\n",
              "<style scoped>\n",
              "    .dataframe tbody tr th:only-of-type {\n",
              "        vertical-align: middle;\n",
              "    }\n",
              "\n",
              "    .dataframe tbody tr th {\n",
              "        vertical-align: top;\n",
              "    }\n",
              "\n",
              "    .dataframe thead th {\n",
              "        text-align: right;\n",
              "    }\n",
              "</style>\n",
              "<table border=\"1\" class=\"dataframe\">\n",
              "  <thead>\n",
              "    <tr style=\"text-align: right;\">\n",
              "      <th></th>\n",
              "      <th>Sex</th>\n",
              "      <th>Pclass</th>\n",
              "      <th>count</th>\n",
              "    </tr>\n",
              "  </thead>\n",
              "  <tbody>\n",
              "    <tr>\n",
              "      <th>1</th>\n",
              "      <td>female</td>\n",
              "      <td>1</td>\n",
              "      <td>94</td>\n",
              "    </tr>\n",
              "    <tr>\n",
              "      <th>4</th>\n",
              "      <td>male</td>\n",
              "      <td>1</td>\n",
              "      <td>122</td>\n",
              "    </tr>\n",
              "    <tr>\n",
              "      <th>2</th>\n",
              "      <td>female</td>\n",
              "      <td>2</td>\n",
              "      <td>76</td>\n",
              "    </tr>\n",
              "    <tr>\n",
              "      <th>5</th>\n",
              "      <td>male</td>\n",
              "      <td>2</td>\n",
              "      <td>108</td>\n",
              "    </tr>\n",
              "    <tr>\n",
              "      <th>0</th>\n",
              "      <td>female</td>\n",
              "      <td>3</td>\n",
              "      <td>144</td>\n",
              "    </tr>\n",
              "    <tr>\n",
              "      <th>3</th>\n",
              "      <td>male</td>\n",
              "      <td>3</td>\n",
              "      <td>347</td>\n",
              "    </tr>\n",
              "  </tbody>\n",
              "</table>\n",
              "</div>"
            ],
            "text/plain": [
              "      Sex  Pclass  count\n",
              "1  female       1     94\n",
              "4    male       1    122\n",
              "2  female       2     76\n",
              "5    male       2    108\n",
              "0  female       3    144\n",
              "3    male       3    347"
            ]
          },
          "execution_count": 70,
          "metadata": {},
          "output_type": "execute_result"
        }
      ],
      "source": [
        "df[['Sex', 'Pclass']].groupby('Sex').value_counts().reset_index().sort_values(by='Pclass')"
      ]
    },
    {
      "cell_type": "code",
      "execution_count": 71,
      "metadata": {
        "colab": {
          "base_uri": "https://localhost:8080/",
          "height": 564
        },
        "execution": {
          "iopub.execute_input": "2024-06-23T22:33:42.924734Z",
          "iopub.status.busy": "2024-06-23T22:33:42.924289Z",
          "iopub.status.idle": "2024-06-23T22:33:43.201012Z",
          "shell.execute_reply": "2024-06-23T22:33:43.199868Z",
          "shell.execute_reply.started": "2024-06-23T22:33:42.9247Z"
        },
        "id": "iacKMDejmHke",
        "outputId": "87792bc9-c78c-4ea6-c86d-9c1c5b853ab1",
        "trusted": true
      },
      "outputs": [
        {
          "data": {
            "image/png": "[encoded data removed]",
            "text/plain": [
              "<Figure size 800x600 with 1 Axes>"
            ]
          },
          "metadata": {},
          "output_type": "display_data"
        }
      ],
      "source": [
        "plt.figure(figsize=(8, 6))\n",
        "sns.countplot(hue='Sex', data=df, x='Pclass',palette='pastel')\n",
        "\n",
        "# Adding titles and labels\n",
        "plt.title('sex to Pclass')\n",
        "plt.xlabel('Category')\n",
        "plt.ylabel('Value')\n",
        "plt.show()"
      ]
    },
    {
      "cell_type": "code",
      "execution_count": 72,
      "metadata": {
        "colab": {
          "base_uri": "https://localhost:8080/"
        },
        "execution": {
          "iopub.execute_input": "2024-06-23T22:33:43.210179Z",
          "iopub.status.busy": "2024-06-23T22:33:43.20972Z",
          "iopub.status.idle": "2024-06-23T22:33:43.218666Z",
          "shell.execute_reply": "2024-06-23T22:33:43.217455Z",
          "shell.execute_reply.started": "2024-06-23T22:33:43.21015Z"
        },
        "id": "HcypVhhnmHke",
        "outputId": "0fc2898b-9724-45cf-c2c9-d27f894eb915",
        "trusted": true
      },
      "outputs": [
        {
          "data": {
            "text/plain": [
              "(29.69911764705882, 28.0)"
            ]
          },
          "execution_count": 72,
          "metadata": {},
          "output_type": "execute_result"
        }
      ],
      "source": [
        "df['Age'].mean(),df['Age'].median()"
      ]
    },
    {
      "cell_type": "code",
      "execution_count": 73,
      "metadata": {
        "colab": {
          "base_uri": "https://localhost:8080/",
          "height": 335
        },
        "execution": {
          "iopub.execute_input": "2024-06-23T22:33:43.220331Z",
          "iopub.status.busy": "2024-06-23T22:33:43.220007Z",
          "iopub.status.idle": "2024-06-23T22:33:43.234167Z",
          "shell.execute_reply": "2024-06-23T22:33:43.232832Z",
          "shell.execute_reply.started": "2024-06-23T22:33:43.220302Z"
        },
        "id": "FzI4sUpJmHkf",
        "outputId": "c9601e33-60ea-4e1e-c44d-72fe44945acd",
        "trusted": true
      },
      "outputs": [
        {
          "data": {
            "text/plain": [
              "Survived      0\n",
              "Pclass        0\n",
              "Sex           0\n",
              "Age         177\n",
              "SibSp         0\n",
              "Parch         0\n",
              "Fare          0\n",
              "Embarked      2\n",
              "dtype: int64"
            ]
          },
          "execution_count": 73,
          "metadata": {},
          "output_type": "execute_result"
        }
      ],
      "source": [
        "#fillna\n",
        "df.isna().sum()"
      ]
    },
    {
      "cell_type": "code",
      "execution_count": 74,
      "metadata": {
        "execution": {
          "iopub.execute_input": "2024-06-23T22:33:43.236275Z",
          "iopub.status.busy": "2024-06-23T22:33:43.23585Z",
          "iopub.status.idle": "2024-06-23T22:33:43.247257Z",
          "shell.execute_reply": "2024-06-23T22:33:43.246016Z",
          "shell.execute_reply.started": "2024-06-23T22:33:43.236234Z"
        },
        "id": "7JXcHynbmHkf",
        "trusted": true
      },
      "outputs": [],
      "source": [
        "df['Age']=df['Age'].fillna(df['Age'].mean())\n",
        "df['Embarked']=df['Embarked'].fillna(df['Embarked'].mode().iloc[0])"
      ]
    },
    {
      "cell_type": "code",
      "execution_count": 75,
      "metadata": {
        "colab": {
          "base_uri": "https://localhost:8080/",
          "height": 335
        },
        "execution": {
          "iopub.execute_input": "2024-06-23T22:33:43.249284Z",
          "iopub.status.busy": "2024-06-23T22:33:43.248857Z",
          "iopub.status.idle": "2024-06-23T22:33:43.266104Z",
          "shell.execute_reply": "2024-06-23T22:33:43.264992Z",
          "shell.execute_reply.started": "2024-06-23T22:33:43.249245Z"
        },
        "id": "cI5SWpmJmHkg",
        "outputId": "200d7dd9-b1d6-470a-a809-996e9c270a60",
        "trusted": true
      },
      "outputs": [
        {
          "data": {
            "text/plain": [
              "Survived    0\n",
              "Pclass      0\n",
              "Sex         0\n",
              "Age         0\n",
              "SibSp       0\n",
              "Parch       0\n",
              "Fare        0\n",
              "Embarked    0\n",
              "dtype: int64"
            ]
          },
          "execution_count": 75,
          "metadata": {},
          "output_type": "execute_result"
        }
      ],
      "source": [
        "df.isna().sum()"
      ]
    },
    {
      "cell_type": "code",
      "execution_count": 76,
      "metadata": {
        "colab": {
          "base_uri": "https://localhost:8080/",
          "height": 366
        },
        "execution": {
          "iopub.execute_input": "2024-06-23T22:33:43.267508Z",
          "iopub.status.busy": "2024-06-23T22:33:43.267152Z",
          "iopub.status.idle": "2024-06-23T22:33:43.282203Z",
          "shell.execute_reply": "2024-06-23T22:33:43.280987Z",
          "shell.execute_reply.started": "2024-06-23T22:33:43.267471Z"
        },
        "id": "YpiyF4cimHkg",
        "outputId": "72e84c22-a720-42d2-cafb-21b157ecabf4",
        "trusted": true
      },
      "outputs": [
        {
          "data": {
            "text/plain": [
              "0     537\n",
              "1     161\n",
              "2     102\n",
              "3      29\n",
              "4      15\n",
              "5      22\n",
              "6      12\n",
              "7       6\n",
              "10      7\n",
              "Name: count, dtype: int64"
            ]
          },
          "execution_count": 76,
          "metadata": {},
          "output_type": "execute_result"
        }
      ],
      "source": [
        "# we want to get family member\n",
        "e=df['SibSp']+df['Parch']\n",
        "e.value_counts().sort_index()"
      ]
    },
    {
      "cell_type": "code",
      "execution_count": 77,
      "metadata": {
        "colab": {
          "base_uri": "https://localhost:8080/",
          "height": 423
        },
        "execution": {
          "iopub.execute_input": "2024-06-23T22:33:43.353143Z",
          "iopub.status.busy": "2024-06-23T22:33:43.352794Z",
          "iopub.status.idle": "2024-06-23T22:33:43.376733Z",
          "shell.execute_reply": "2024-06-23T22:33:43.375334Z",
          "shell.execute_reply.started": "2024-06-23T22:33:43.353112Z"
        },
        "id": "7gQI3AhCmHkj",
        "outputId": "98660ab4-a975-4508-b9cc-75cbef64f604",
        "trusted": true
      },
      "outputs": [],
      "source": [
        "def family_size(size):\n",
        "    if size == 0:\n",
        "        return 0\n",
        "    elif size <= 3:\n",
        "        return 1\n",
        "    elif size <= 6:\n",
        "        return 2\n",
        "    else:\n",
        "        return 3\n",
        "\n",
        "\n",
        "df['family_size'] = df['SibSp'] + df['Parch']\n",
        "\n",
        "df['family_size']=df['family_size'].apply(family_size)"
      ]
    },
    {
      "cell_type": "code",
      "execution_count": 78,
      "metadata": {},
      "outputs": [
        {
          "data": {
            "text/html": [
              "<div>\n",
              "<style scoped>\n",
              "    .dataframe tbody tr th:only-of-type {\n",
              "        vertical-align: middle;\n",
              "    }\n",
              "\n",
              "    .dataframe tbody tr th {\n",
              "        vertical-align: top;\n",
              "    }\n",
              "\n",
              "    .dataframe thead th {\n",
              "        text-align: right;\n",
              "    }\n",
              "</style>\n",
              "<table border=\"1\" class=\"dataframe\">\n",
              "  <thead>\n",
              "    <tr style=\"text-align: right;\">\n",
              "      <th></th>\n",
              "      <th>Survived</th>\n",
              "      <th>Pclass</th>\n",
              "      <th>Sex</th>\n",
              "      <th>Age</th>\n",
              "      <th>SibSp</th>\n",
              "      <th>Parch</th>\n",
              "      <th>Fare</th>\n",
              "      <th>Embarked</th>\n",
              "      <th>family_size</th>\n",
              "    </tr>\n",
              "  </thead>\n",
              "  <tbody>\n",
              "    <tr>\n",
              "      <th>0</th>\n",
              "      <td>0</td>\n",
              "      <td>3</td>\n",
              "      <td>male</td>\n",
              "      <td>22.0</td>\n",
              "      <td>1</td>\n",
              "      <td>0</td>\n",
              "      <td>7.2500</td>\n",
              "      <td>S</td>\n",
              "      <td>1</td>\n",
              "    </tr>\n",
              "    <tr>\n",
              "      <th>1</th>\n",
              "      <td>1</td>\n",
              "      <td>1</td>\n",
              "      <td>female</td>\n",
              "      <td>38.0</td>\n",
              "      <td>1</td>\n",
              "      <td>0</td>\n",
              "      <td>71.2833</td>\n",
              "      <td>C</td>\n",
              "      <td>1</td>\n",
              "    </tr>\n",
              "    <tr>\n",
              "      <th>2</th>\n",
              "      <td>1</td>\n",
              "      <td>3</td>\n",
              "      <td>female</td>\n",
              "      <td>26.0</td>\n",
              "      <td>0</td>\n",
              "      <td>0</td>\n",
              "      <td>7.9250</td>\n",
              "      <td>S</td>\n",
              "      <td>0</td>\n",
              "    </tr>\n",
              "    <tr>\n",
              "      <th>3</th>\n",
              "      <td>1</td>\n",
              "      <td>1</td>\n",
              "      <td>female</td>\n",
              "      <td>35.0</td>\n",
              "      <td>1</td>\n",
              "      <td>0</td>\n",
              "      <td>53.1000</td>\n",
              "      <td>S</td>\n",
              "      <td>1</td>\n",
              "    </tr>\n",
              "    <tr>\n",
              "      <th>4</th>\n",
              "      <td>0</td>\n",
              "      <td>3</td>\n",
              "      <td>male</td>\n",
              "      <td>35.0</td>\n",
              "      <td>0</td>\n",
              "      <td>0</td>\n",
              "      <td>8.0500</td>\n",
              "      <td>S</td>\n",
              "      <td>0</td>\n",
              "    </tr>\n",
              "  </tbody>\n",
              "</table>\n",
              "</div>"
            ],
            "text/plain": [
              "   Survived  Pclass     Sex   Age  SibSp  Parch     Fare Embarked  family_size\n",
              "0         0       3    male  22.0      1      0   7.2500        S            1\n",
              "1         1       1  female  38.0      1      0  71.2833        C            1\n",
              "2         1       3  female  26.0      0      0   7.9250        S            0\n",
              "3         1       1  female  35.0      1      0  53.1000        S            1\n",
              "4         0       3    male  35.0      0      0   8.0500        S            0"
            ]
          },
          "execution_count": 78,
          "metadata": {},
          "output_type": "execute_result"
        }
      ],
      "source": [
        "df.head()"
      ]
    },
    {
      "cell_type": "code",
      "execution_count": 79,
      "metadata": {
        "colab": {
          "base_uri": "https://localhost:8080/",
          "height": 430
        },
        "execution": {
          "iopub.execute_input": "2024-06-23T22:33:43.37861Z",
          "iopub.status.busy": "2024-06-23T22:33:43.378168Z",
          "iopub.status.idle": "2024-06-23T22:33:43.625854Z",
          "shell.execute_reply": "2024-06-23T22:33:43.624485Z",
          "shell.execute_reply.started": "2024-06-23T22:33:43.378573Z"
        },
        "id": "PEgHaw75mHkk",
        "outputId": "75d2480c-dbe0-4e7a-d7bb-02e9638e51e7",
        "trusted": true
      },
      "outputs": [
        {
          "data": {
            "image/png": "[encoded data removed]",
            "text/plain": [
              "<Figure size 640x480 with 1 Axes>"
            ]
          },
          "metadata": {},
          "output_type": "display_data"
        }
      ],
      "source": [
        "#right skew\n",
        "plt.hist(x='Fare',data=df,bins=30)\n",
        "plt.show()"
      ]
    },
    {
      "cell_type": "code",
      "execution_count": 80,
      "metadata": {
        "colab": {
          "base_uri": "https://localhost:8080/"
        },
        "execution": {
          "iopub.execute_input": "2024-06-23T22:33:43.62794Z",
          "iopub.status.busy": "2024-06-23T22:33:43.627474Z",
          "iopub.status.idle": "2024-06-23T22:33:43.636964Z",
          "shell.execute_reply": "2024-06-23T22:33:43.635655Z",
          "shell.execute_reply.started": "2024-06-23T22:33:43.627899Z"
        },
        "id": "aN_eBPt9mHkk",
        "outputId": "c973a4a1-8d66-40fe-ff03-1fd544b276a4",
        "trusted": true
      },
      "outputs": [
        {
          "data": {
            "text/plain": [
              "4.787316519674893"
            ]
          },
          "execution_count": 80,
          "metadata": {},
          "output_type": "execute_result"
        }
      ],
      "source": [
        "df['Fare'].skew()"
      ]
    },
    {
      "cell_type": "code",
      "execution_count": 81,
      "metadata": {
        "execution": {
          "iopub.execute_input": "2024-06-23T22:33:43.63888Z",
          "iopub.status.busy": "2024-06-23T22:33:43.638444Z",
          "iopub.status.idle": "2024-06-23T22:33:43.650904Z",
          "shell.execute_reply": "2024-06-23T22:33:43.649625Z",
          "shell.execute_reply.started": "2024-06-23T22:33:43.63884Z"
        },
        "id": "BVFdurovmHkk",
        "trusted": true
      },
      "outputs": [],
      "source": [
        "# make log to make it normal distrbution\n",
        "# add 1 bea. has 0 values\n",
        "df['Fare_new'] = np.log(df['Fare'] + 1)"
      ]
    },
    {
      "cell_type": "code",
      "execution_count": 82,
      "metadata": {
        "colab": {
          "base_uri": "https://localhost:8080/"
        },
        "execution": {
          "iopub.execute_input": "2024-06-23T22:33:43.652913Z",
          "iopub.status.busy": "2024-06-23T22:33:43.652363Z",
          "iopub.status.idle": "2024-06-23T22:33:43.667364Z",
          "shell.execute_reply": "2024-06-23T22:33:43.666192Z",
          "shell.execute_reply.started": "2024-06-23T22:33:43.652817Z"
        },
        "id": "LNG-G_ngmHkl",
        "outputId": "7c181cf3-7ccd-4937-f4cb-85c01b395807",
        "trusted": true
      },
      "outputs": [
        {
          "data": {
            "text/plain": [
              "0.3949280095189306"
            ]
          },
          "execution_count": 82,
          "metadata": {},
          "output_type": "execute_result"
        }
      ],
      "source": [
        "df['Fare_new'].skew()"
      ]
    },
    {
      "cell_type": "code",
      "execution_count": 83,
      "metadata": {
        "colab": {
          "base_uri": "https://localhost:8080/",
          "height": 449
        },
        "execution": {
          "iopub.execute_input": "2024-06-23T22:33:43.67041Z",
          "iopub.status.busy": "2024-06-23T22:33:43.669427Z",
          "iopub.status.idle": "2024-06-23T22:33:43.973222Z",
          "shell.execute_reply": "2024-06-23T22:33:43.972157Z",
          "shell.execute_reply.started": "2024-06-23T22:33:43.670345Z"
        },
        "id": "ivrGcoyImHkl",
        "outputId": "ee285f1f-3b84-41ec-fe2d-16ffc6fc67da",
        "trusted": true
      },
      "outputs": [
        {
          "data": {
            "image/png": "[encoded data removed]",
            "text/plain": [
              "<Figure size 640x480 with 1 Axes>"
            ]
          },
          "metadata": {},
          "output_type": "display_data"
        }
      ],
      "source": [
        "#right skew\n",
        "sns.histplot(x='Fare_new',data=df,bins=30, kde=True)\n",
        "plt.show()"
      ]
    },
    {
      "cell_type": "code",
      "execution_count": 84,
      "metadata": {
        "execution": {
          "iopub.execute_input": "2024-06-23T22:33:43.983197Z",
          "iopub.status.busy": "2024-06-23T22:33:43.982879Z",
          "iopub.status.idle": "2024-06-23T22:33:43.996925Z",
          "shell.execute_reply": "2024-06-23T22:33:43.995561Z",
          "shell.execute_reply.started": "2024-06-23T22:33:43.983168Z"
        },
        "id": "PkhNZmXFmHkm",
        "trusted": true
      },
      "outputs": [],
      "source": [
        "df['Age']=df['Age'].round(1)"
      ]
    },
    {
      "cell_type": "code",
      "execution_count": 85,
      "metadata": {},
      "outputs": [],
      "source": [
        "df.drop(['SibSp', 'Parch','Fare'],inplace=True,axis=1)"
      ]
    },
    {
      "cell_type": "markdown",
      "metadata": {
        "id": "6g0yhoHTwbsT"
      },
      "source": [
        "##`prepare data for moodel`"
      ]
    },
    {
      "cell_type": "code",
      "execution_count": 86,
      "metadata": {
        "colab": {
          "base_uri": "https://localhost:8080/"
        },
        "id": "ph07S2tetEcP",
        "outputId": "a9411cf8-834c-43ac-dbb8-a2515b91e01e"
      },
      "outputs": [
        {
          "data": {
            "text/plain": [
              "(Index(['Pclass', 'Age', 'family_size', 'Fare_new'], dtype='object'),\n",
              " Index(['Sex', 'Embarked'], dtype='object'))"
            ]
          },
          "execution_count": 86,
          "metadata": {},
          "output_type": "execute_result"
        }
      ],
      "source": [
        "#split to num and categ\n",
        "num_cols = df.drop(columns=['Survived']).select_dtypes(include=['number']).columns\n",
        "categ_cols=df.select_dtypes(exclude=['number']).columns\n",
        "num_cols,categ_cols"
      ]
    },
    {
      "cell_type": "code",
      "execution_count": 87,
      "metadata": {
        "id": "6oKybSunwmNT"
      },
      "outputs": [],
      "source": [
        "#split data\n",
        "y = df['Survived']\n",
        "X=df.drop(['Survived'],axis=1)"
      ]
    },
    {
      "cell_type": "code",
      "execution_count": 88,
      "metadata": {
        "id": "Fb-W8A_WwmKK"
      },
      "outputs": [],
      "source": [
        "X_train, X_test, y_train, y_test = train_test_split(X, y, test_size=0.2, random_state=42)"
      ]
    },
    {
      "cell_type": "code",
      "execution_count": 89,
      "metadata": {
        "id": "USiKrSolwmHp"
      },
      "outputs": [],
      "source": [
        "preprocessor = ColumnTransformer(\n",
        "    transformers=[\n",
        "        ('num', StandardScaler(), num_cols),  # Scale numerical features\n",
        "        ('cat', OrdinalEncoder(), categ_cols)   # One-hot encode categorical features\n",
        "    ]\n",
        ")\n",
        "\n",
        "# Create the pipeline with preprocessing only\n",
        "pipeline = Pipeline(steps=[\n",
        "    ('preprocessor', preprocessor)\n",
        "])\n",
        "\n",
        "# Apply the pipeline to transform the training data\n",
        "X_train_full = pipeline.fit_transform(X_train)\n",
        "\n",
        "# Optionally, apply the same transformation to the test data\n",
        "X_test_full = pipeline.transform(X_test)"
      ]
    },
    {
      "cell_type": "markdown",
      "metadata": {
        "id": "6kH4BUVRzH2W"
      },
      "source": [
        "##`building models`"
      ]
    },
    {
      "cell_type": "code",
      "execution_count": 90,
      "metadata": {
        "colab": {
          "base_uri": "https://localhost:8080/",
          "height": 178
        },
        "id": "CjeXZ9-s4RRS",
        "outputId": "bf82426d-abe3-4bf5-c74a-a3ab4717832f"
      },
      "outputs": [
        {
          "data": {
            "text/plain": [
              "Survived\n",
              "0    549\n",
              "1    342\n",
              "Name: count, dtype: int64"
            ]
          },
          "execution_count": 90,
          "metadata": {},
          "output_type": "execute_result"
        }
      ],
      "source": [
        "y.value_counts()"
      ]
    },
    {
      "cell_type": "code",
      "execution_count": 91,
      "metadata": {
        "colab": {
          "base_uri": "https://localhost:8080/"
        },
        "id": "4Mz3VdWm4T-1",
        "outputId": "bbbb6b35-13a0-4348-e074-b43cdd971da6"
      },
      "outputs": [
        {
          "data": {
            "text/plain": [
              "{0: 0.6161616161616161, 1: 0.3838383838383838}"
            ]
          },
          "execution_count": 91,
          "metadata": {},
          "output_type": "execute_result"
        }
      ],
      "source": [
        "weight= {}\n",
        "\n",
        "l=np.bincount(y)\n",
        "for i in range(len(l)):\n",
        "  weight[i]=l[i]/len(y)\n",
        "weight"
      ]
    },
    {
      "cell_type": "code",
      "execution_count": 92,
      "metadata": {
        "colab": {
          "base_uri": "https://localhost:8080/",
          "height": 1000
        },
        "id": "cHfU807-wmEy",
        "outputId": "962ef179-a0d2-43d9-8898-ba165f88a873"
      },
      "outputs": [
        {
          "name": "stdout",
          "output_type": "stream",
          "text": [
            "Logistic Regression: Accuracy = 0.8212\n",
            "K-Nearest Neighbors: Accuracy = 0.8212\n",
            "Decision Tree: Accuracy = 0.7933\n",
            "Random Forest :bagging : Accuracy = 0.8324\n",
            "Random Forest :pasting : Accuracy = 0.8268\n",
            "Support Vector Classifier: Accuracy = 0.8101\n",
            "xgb boost: Accuracy = 0.7989\n"
          ]
        }
      ],
      "source": [
        "# ... your existing code ...\n",
        "\n",
        "def build_and_evaluate_model(model, model_name):\n",
        "    \"\"\"\n",
        "    Trains a model, predicts on test data, and evaluates performance.\n",
        "    \"\"\"\n",
        "    # Fit the model on the training data\n",
        "    model.fit(X_train_full, y_train)\n",
        "\n",
        "    # Make predictions on the test data\n",
        "    y_pred = model.predict(X_test_full)\n",
        "\n",
        "    # Evaluate the model\n",
        "    accuracy = accuracy_score(y_test, y_pred)\n",
        "    print(f\"{model_name}: Accuracy = {accuracy:.4f}\")\n",
        "\n",
        "\n",
        "\n",
        "models = {\n",
        "    \"Logistic Regression\": LogisticRegression(class_weight=weight,random_state=44),\n",
        "    \"K-Nearest Neighbors\": KNeighborsClassifier(n_neighbors=5),\n",
        "    \"Decision Tree\": DecisionTreeClassifier(max_depth=12, random_state=45),\n",
        "    \"Random Forest :bagging \": RandomForestClassifier(bootstrap=True, max_depth=8, n_estimators=100,random_state=44),\n",
        "    \"Random Forest :pasting \": RandomForestClassifier(bootstrap=False, max_depth=8, n_estimators=100,random_state=44),\n",
        "    \"Support Vector Classifier\": SVC(),\n",
        "    \"xgb boost\":xgb.XGBClassifier(random_state=42,max_depth =5)\n",
        "}\n",
        "\n",
        "# Build and evaluate each model\n",
        "for model_name, model in models.items():\n",
        "    build_and_evaluate_model(model, model_name)"
      ]
    },
    {
      "cell_type": "markdown",
      "metadata": {},
      "source": [
        "##### `choose random forest bagging as best model to make prediction for new instance`"
      ]
    },
    {
      "cell_type": "code",
      "execution_count": 93,
      "metadata": {},
      "outputs": [
        {
          "name": "stdout",
          "output_type": "stream",
          "text": [
            "Pasting Random Forest Accuracy: 0.8268\n"
          ]
        }
      ],
      "source": [
        "bagging_model = RandomForestClassifier(bootstrap=False, max_depth=8, n_estimators=100, random_state=44)\n",
        "bagging_model.fit(X_train_full, y_train)\n",
        "\n",
        "# Evaluate the model\n",
        "y_pred = bagging_model.predict(X_test_full)\n",
        "accuracy = accuracy_score(y_test, y_pred)\n",
        "print(f\"bagging Random Forest Accuracy: {accuracy:.4f}\")"
      ]
    },
    {
      "cell_type": "code",
      "execution_count": 94,
      "metadata": {
        "id": "qxMphQvb6Pjr"
      },
      "outputs": [],
      "source": [
        "def x_new(x):\n",
        "    x = pd.DataFrame([x])\n",
        "    \n",
        "    x['Fare_new'] = np.log(x['Fare'] + 1)\n",
        "    x['family_size'] = x['SibSp'] + x['Parch']\n",
        "    x['family_size']=x['family_size'].apply(family_size)\n",
        "    x.drop(['SibSp', 'Parch', 'Fare'], inplace=True, axis=1)\n",
        "    \n",
        "    # Use the preprocessing pipeline\n",
        "    x_preprocessed = pipeline.transform(x)\n",
        "    \n",
        "    # Predict using the trained model\n",
        "    prediction = bagging_model.predict(x_preprocessed)\n",
        "    \n",
        "    \n",
        "    if prediction==0:\n",
        "        \n",
        "        return 'Not Survive'\n",
        "    else:\n",
        "        \n",
        "        return 'survive'"
      ]
    },
    {
      "cell_type": "code",
      "execution_count": 97,
      "metadata": {},
      "outputs": [
        {
          "name": "stdout",
          "output_type": "stream",
          "text": [
            "Predicted Class: Not Survive\n"
          ]
        }
      ],
      "source": [
        "new_instance = {\n",
        "    'Pclass': 3,          # 1st class\n",
        "    'Sex': 'female',      # 'female' instead of 1\n",
        "    'Age': 29,            # Age of the passenger\n",
        "    'SibSp': 0,           # No siblings or spouses aboard\n",
        "    'Parch': 0,           # No parents or children aboard\n",
        "    'Fare': 100,          # Fare price\n",
        "    'Embarked': 'C'       # 'C' for Cherbourg instead of 0\n",
        "}\n",
        "\n",
        "predicted_class = x_new(new_instance)\n",
        "print(f\"Predicted Class: {predicted_class}\")"
      ]
    }
  ],
  "metadata": {
    "colab": {
      "name": "Titanic visualization and prediction",
      "provenance": []
    },
    "kaggle": {
      "accelerator": "none",
      "dataSources": [
        {
          "databundleVersionId": 26502,
          "sourceId": 3136,
          "sourceType": "competition"
        }
      ],
      "dockerImageVersionId": 30732,
      "isGpuEnabled": false,
      "isInternetEnabled": true,
      "language": "python",
      "sourceType": "notebook"
    },
    "kernelspec": {
      "display_name": "Python 3",
      "language": "python",
      "name": "python3"
    },
    "language_info": {
      "codemirror_mode": {
        "name": "ipython",
        "version": 3
      },
      "file_extension": ".py",
      "mimetype": "text/x-python",
      "name": "python",
      "nbconvert_exporter": "python",
      "pygments_lexer": "ipython3",
      "version": "3.11.7"
    }
  },
  "nbformat": 4,
  "nbformat_minor": 0
}
